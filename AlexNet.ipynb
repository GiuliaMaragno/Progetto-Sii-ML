{
  "nbformat": 4,
  "nbformat_minor": 0,
  "metadata": {
    "colab": {
      "provenance": [],
      "mount_file_id": "1Z867lLJ_tZVddb-i9r7HrfYXBllMawd6",
      "authorship_tag": "ABX9TyOy8GzEgzjJcg13yZO0ibcf",
      "include_colab_link": true
    },
    "kernelspec": {
      "name": "python3",
      "display_name": "Python 3"
    },
    "language_info": {
      "name": "python"
    }
  },
  "cells": [
    {
      "cell_type": "markdown",
      "metadata": {
        "id": "view-in-github",
        "colab_type": "text"
      },
      "source": [
        "<a href=\"https://colab.research.google.com/github/GiuliaMaragno/Progetto-Sii-ML/blob/main/AlexNet.ipynb\" target=\"_parent\"><img src=\"https://colab.research.google.com/assets/colab-badge.svg\" alt=\"Open In Colab\"/></a>"
      ]
    },
    {
      "cell_type": "code",
      "execution_count": 1,
      "metadata": {
        "id": "xT7gHD1KRHVz"
      },
      "outputs": [],
      "source": [
        "import numpy as np\n",
        "import pandas as pd\n",
        "import tensorflow as tf\n",
        "from tensorflow import keras\n",
        "from tensorflow.keras import layers\n",
        "from tensorflow.keras.layers import Dense, Conv2D, MaxPooling2D, Flatten, Dropout\n",
        "from matplotlib import pyplot as plt\n",
        "from tensorflow.keras.models import Model\n",
        "\n",
        "from tensorflow.keras.preprocessing.image import ImageDataGenerator\n",
        "from tensorflow.keras.preprocessing import image\n",
        "from tensorflow.keras.applications import VGG16\n",
        "from tensorflow.keras.optimizers import Adam\n",
        "from tensorflow.keras.models import Sequential\n",
        "\n",
        "\n",
        "from keras.layers import Input, Dense, Activation,BatchNormalization, Flatten, Conv2D, MaxPooling2D\n",
        "\n",
        "\n",
        "\n",
        "import keras.backend as K\n",
        "K.set_image_data_format('channels_last')\n",
        "\n",
        "from matplotlib.pyplot import imshow"
      ]
    },
    {
      "cell_type": "code",
      "source": [
        "train_path ='/content/drive/MyDrive/Progetto/kvasir-dataset-v2/Train'\n",
        "valid_path='/content/drive/MyDrive/Progetto/kvasir-dataset-v2/Valid'\n",
        "test_path='/content/drive/MyDrive/Progetto/kvasir-dataset-v2/Test'\n",
        "\n",
        "train_datagen = ImageDataGenerator(rescale=1./255, shear_range=0.2, zoom_range=0.1, horizontal_flip=True)\n",
        "valid_datagen = ImageDataGenerator(rescale=1./255)"
      ],
      "metadata": {
        "id": "68MnuWjNRQk-"
      },
      "execution_count": 4,
      "outputs": []
    },
    {
      "cell_type": "code",
      "source": [
        "train_set = train_datagen.flow_from_directory(directory=train_path, target_size=(227, 227), class_mode='categorical', batch_size=32)\n",
        "valid_set = valid_datagen.flow_from_directory(directory=valid_path, target_size=(227, 227), class_mode='categorical', batch_size=32)\n",
        "test_set = valid_datagen.flow_from_directory(directory=test_path, target_size=(227,227), class_mode='categorical', batch_size=1, shuffle=False)"
      ],
      "metadata": {
        "colab": {
          "base_uri": "https://localhost:8080/"
        },
        "id": "tbBv_OZARShc",
        "outputId": "b3baf180-179e-4431-d91e-3dd9ec267077"
      },
      "execution_count": 19,
      "outputs": [
        {
          "output_type": "stream",
          "name": "stdout",
          "text": [
            "Found 5646 images belonging to 8 classes.\n",
            "Found 1600 images belonging to 8 classes.\n",
            "Found 800 images belonging to 8 classes.\n"
          ]
        }
      ]
    },
    {
      "cell_type": "code",
      "source": [
        "print(\"Batch Size for Input Image : \",train[0][0].shape)\n",
        "print(\"Batch Size for Output Image : \",train[0][1].shape)\n",
        "print(\"Image Size of first image : \",train[0][0][0].shape)\n",
        "print(\"Output of first image : \",train[0][1][0].shape)"
      ],
      "metadata": {
        "id": "_1nTxRniRvPe"
      },
      "execution_count": null,
      "outputs": []
    },
    {
      "cell_type": "code",
      "source": [
        "def AlexNet(input_shape):\n",
        "    \n",
        "    X_input = Input(input_shape)\n",
        "    \n",
        "    X = Conv2D(96,(11,11),strides = 4,name=\"conv0\")(X_input)\n",
        "    X = BatchNormalization(axis = 3 , name = \"bn0\")(X)\n",
        "    X = Activation('relu')(X)\n",
        "    \n",
        "    X = MaxPooling2D((3,3),strides = 2,name = 'max0')(X)\n",
        "    \n",
        "    X = Conv2D(256,(5,5),padding = 'same' , name = 'conv1')(X)\n",
        "    X = BatchNormalization(axis = 3 ,name='bn1')(X)\n",
        "    X = Activation('relu')(X)\n",
        "    \n",
        "    X = MaxPooling2D((3,3),strides = 2,name = 'max1')(X)\n",
        "    \n",
        "    X = Conv2D(384, (3,3) , padding = 'same' , name='conv2')(X)\n",
        "    X = BatchNormalization(axis = 3, name = 'bn2')(X)\n",
        "    X = Activation('relu')(X)\n",
        "    \n",
        "    X = Conv2D(384, (3,3) , padding = 'same' , name='conv3')(X)\n",
        "    X = BatchNormalization(axis = 3, name = 'bn3')(X)\n",
        "    X = Activation('relu')(X)\n",
        "    \n",
        "    X = Conv2D(256, (3,3) , padding = 'same' , name='conv4')(X)\n",
        "    X = BatchNormalization(axis = 3, name = 'bn4')(X)\n",
        "    X = Activation('relu')(X)\n",
        "    \n",
        "    X = MaxPooling2D((3,3),strides = 2,name = 'max2')(X)\n",
        "    \n",
        "    X = Flatten()(X)\n",
        "    \n",
        "    X = Dense(4096, activation = 'relu', name = \"fc0\")(X)\n",
        "    \n",
        "    X = Dense(4096, activation = 'relu', name = 'fc1')(X) \n",
        "    \n",
        "    X = Dense(8,activation='softmax',name = 'fc2')(X)\n",
        "    model = Model(inputs = X_input, outputs = X, name='AlexNet')\n",
        "    return model"
      ],
      "metadata": {
        "id": "CQj887hzRv-W"
      },
      "execution_count": 20,
      "outputs": []
    },
    {
      "cell_type": "code",
      "source": [
        "alex = AlexNet(train_set[0][0].shape[1:])"
      ],
      "metadata": {
        "id": "MECMOj-ZR7WN"
      },
      "execution_count": 21,
      "outputs": []
    },
    {
      "cell_type": "code",
      "source": [
        "alex.summary()"
      ],
      "metadata": {
        "colab": {
          "base_uri": "https://localhost:8080/"
        },
        "id": "yOvLtfwcR9-M",
        "outputId": "58e8a921-6511-4e04-aa57-bd28b3d544e2"
      },
      "execution_count": 22,
      "outputs": [
        {
          "output_type": "stream",
          "name": "stdout",
          "text": [
            "Model: \"AlexNet\"\n",
            "_________________________________________________________________\n",
            " Layer (type)                Output Shape              Param #   \n",
            "=================================================================\n",
            " input_3 (InputLayer)        [(None, 227, 227, 3)]     0         \n",
            "                                                                 \n",
            " conv0 (Conv2D)              (None, 55, 55, 96)        34944     \n",
            "                                                                 \n",
            " bn0 (BatchNormalization)    (None, 55, 55, 96)        384       \n",
            "                                                                 \n",
            " activation_10 (Activation)  (None, 55, 55, 96)        0         \n",
            "                                                                 \n",
            " max0 (MaxPooling2D)         (None, 27, 27, 96)        0         \n",
            "                                                                 \n",
            " conv1 (Conv2D)              (None, 27, 27, 256)       614656    \n",
            "                                                                 \n",
            " bn1 (BatchNormalization)    (None, 27, 27, 256)       1024      \n",
            "                                                                 \n",
            " activation_11 (Activation)  (None, 27, 27, 256)       0         \n",
            "                                                                 \n",
            " max1 (MaxPooling2D)         (None, 13, 13, 256)       0         \n",
            "                                                                 \n",
            " conv2 (Conv2D)              (None, 13, 13, 384)       885120    \n",
            "                                                                 \n",
            " bn2 (BatchNormalization)    (None, 13, 13, 384)       1536      \n",
            "                                                                 \n",
            " activation_12 (Activation)  (None, 13, 13, 384)       0         \n",
            "                                                                 \n",
            " conv3 (Conv2D)              (None, 13, 13, 384)       1327488   \n",
            "                                                                 \n",
            " bn3 (BatchNormalization)    (None, 13, 13, 384)       1536      \n",
            "                                                                 \n",
            " activation_13 (Activation)  (None, 13, 13, 384)       0         \n",
            "                                                                 \n",
            " conv4 (Conv2D)              (None, 13, 13, 256)       884992    \n",
            "                                                                 \n",
            " bn4 (BatchNormalization)    (None, 13, 13, 256)       1024      \n",
            "                                                                 \n",
            " activation_14 (Activation)  (None, 13, 13, 256)       0         \n",
            "                                                                 \n",
            " max2 (MaxPooling2D)         (None, 6, 6, 256)         0         \n",
            "                                                                 \n",
            " flatten_2 (Flatten)         (None, 9216)              0         \n",
            "                                                                 \n",
            " fc0 (Dense)                 (None, 4096)              37752832  \n",
            "                                                                 \n",
            " fc1 (Dense)                 (None, 4096)              16781312  \n",
            "                                                                 \n",
            " fc2 (Dense)                 (None, 8)                 32776     \n",
            "                                                                 \n",
            "=================================================================\n",
            "Total params: 58,319,624\n",
            "Trainable params: 58,316,872\n",
            "Non-trainable params: 2,752\n",
            "_________________________________________________________________\n"
          ]
        }
      ]
    },
    {
      "cell_type": "code",
      "source": [
        "from tensorflow.python.keras import optimizers\n",
        "\n",
        "sgd = tf.keras.optimizers.SGD(learning_rate=0.01, weight_decay = 1e-6, momentum = 0.9, nesterov = True)\n",
        "alex.compile(optimizer = sgd, loss = 'categorical_crossentropy', metrics = ['accuracy'])\n",
        "\n"
      ],
      "metadata": {
        "id": "jGUL6arWSAPO"
      },
      "execution_count": 23,
      "outputs": []
    },
    {
      "cell_type": "code",
      "source": [
        "step_size_train=train_set.n//train_set.batch_size\n",
        "step_size_valid=valid_set.n//valid_set.batch_size"
      ],
      "metadata": {
        "id": "Upijq3Y-R0yb"
      },
      "execution_count": 24,
      "outputs": []
    },
    {
      "cell_type": "code",
      "source": [
        "alex.fit(x=train_set, steps_per_epoch=step_size_train, validation_data= valid_set, validation_steps=step_size_valid, epochs=50)"
      ],
      "metadata": {
        "id": "mQL9ZgduSITa"
      },
      "execution_count": null,
      "outputs": []
    },
    {
      "cell_type": "code",
      "source": [
        "pred = alex.predict(test_set, steps = len(test_set), verbose = 2)"
      ],
      "metadata": {
        "id": "SHi9YLJuSL8-"
      },
      "execution_count": null,
      "outputs": []
    },
    {
      "cell_type": "code",
      "source": [
        "predicted_class = np.argmax(pred, axis = 1)\n",
        "true_classes = test_set.classes\n",
        "class_labels= list(test_set.class_indices.keys())\n",
        "\n",
        "from sklearn.metrics import classification_report\n",
        "report = classification_report(true_classes, predicted_class, target_names=class_labels)\n",
        "print(report)"
      ],
      "metadata": {
        "id": "e-yNnnMQSQL5"
      },
      "execution_count": null,
      "outputs": []
    },
    {
      "cell_type": "code",
      "source": [],
      "metadata": {
        "id": "CTFQ5b1DSQNP"
      },
      "execution_count": null,
      "outputs": []
    }
  ]
}