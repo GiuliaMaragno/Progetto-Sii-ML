{
  "nbformat": 4,
  "nbformat_minor": 0,
  "metadata": {
    "colab": {
      "provenance": [],
      "mount_file_id": "1vvVtO-Py58RjPL11pcxdaqB_xN720xIH",
      "authorship_tag": "ABX9TyO9SgBYR8KJzNp5JYmMdN3F",
      "include_colab_link": true
    },
    "kernelspec": {
      "name": "python3",
      "display_name": "Python 3"
    },
    "language_info": {
      "name": "python"
    },
    "accelerator": "GPU",
    "gpuClass": "standard"
  },
  "cells": [
    {
      "cell_type": "markdown",
      "metadata": {
        "id": "view-in-github",
        "colab_type": "text"
      },
      "source": [
        "<a href=\"https://colab.research.google.com/github/GiuliaMaragno/Progetto-Sii-ML/blob/main/EfficientNetB0.ipynb\" target=\"_parent\"><img src=\"https://colab.research.google.com/assets/colab-badge.svg\" alt=\"Open In Colab\"/></a>"
      ]
    },
    {
      "cell_type": "code",
      "execution_count": 1,
      "metadata": {
        "id": "XzFoZ9Vs79MP"
      },
      "outputs": [],
      "source": [
        "import numpy as np\n",
        "import pandas as pd\n",
        "import tensorflow as tf\n",
        "from tensorflow import keras\n",
        "\n",
        "from tensorflow.keras.models import Model\n",
        "from tensorflow.keras.layers import Dense, Conv2D, MaxPooling2D, Flatten, Dropout\n",
        "from tensorflow.keras.preprocessing.image import ImageDataGenerator\n",
        "from tensorflow.keras.preprocessing import image\n",
        "from matplotlib import pyplot as plt\n",
        "\n",
        "\n",
        "\n",
        "\n",
        "from tensorflow.keras.applications import VGG16\n",
        "from tensorflow.keras.optimizers import Adam\n",
        "from tensorflow.keras.models import Sequential"
      ]
    },
    {
      "cell_type": "code",
      "source": [
        "train_path ='/content/drive/MyDrive/Progetto/kvasir-dataset-v2/Train'\n",
        "valid_path='/content/drive/MyDrive/Progetto/kvasir-dataset-v2/Valid'\n",
        "test_path='/content/drive/MyDrive/Progetto/kvasir-dataset-v2/Test'\n",
        "\n",
        "train_datagen = ImageDataGenerator(rescale=1./255, shear_range=0.2, zoom_range=0.1, horizontal_flip=True)\n",
        "valid_datagen = ImageDataGenerator(rescale=1./255)"
      ],
      "metadata": {
        "id": "MoSKkCJN8KkE"
      },
      "execution_count": 2,
      "outputs": []
    },
    {
      "cell_type": "code",
      "source": [
        "train_set = train_datagen.flow_from_directory(directory=train_path, target_size=(224, 224), class_mode='categorical', batch_size=100)\n",
        "valid_set = valid_datagen.flow_from_directory(directory=valid_path, target_size=(224, 224), class_mode='categorical', batch_size=100)\n",
        "test_set = valid_datagen.flow_from_directory(directory=test_path, target_size=(224,224), class_mode='categorical', batch_size=1, shuffle=False)"
      ],
      "metadata": {
        "colab": {
          "base_uri": "https://localhost:8080/"
        },
        "id": "RJBunkvK8U6R",
        "outputId": "2746ee0a-a60e-4b88-fa62-f6d20ed77205"
      },
      "execution_count": 3,
      "outputs": [
        {
          "output_type": "stream",
          "name": "stdout",
          "text": [
            "Found 5646 images belonging to 8 classes.\n",
            "Found 1600 images belonging to 8 classes.\n",
            "Found 800 images belonging to 8 classes.\n"
          ]
        }
      ]
    },
    {
      "cell_type": "code",
      "source": [
        "model=tf.keras.applications.EfficientNetB0()"
      ],
      "metadata": {
        "colab": {
          "base_uri": "https://localhost:8080/"
        },
        "id": "ffpCyo5k8VbA",
        "outputId": "6df8d094-4af6-4b44-d67d-53b148ae6b70"
      },
      "execution_count": 4,
      "outputs": [
        {
          "output_type": "stream",
          "name": "stdout",
          "text": [
            "Downloading data from https://storage.googleapis.com/keras-applications/efficientnetb0.h5\n",
            "21834768/21834768 [==============================] - 0s 0us/step\n"
          ]
        }
      ]
    },
    {
      "cell_type": "code",
      "source": [
        "x= model.output\n",
        "x = Flatten()(x)\n",
        "x= Dense(units=8, activation='softmax')(x)\n",
        "model= Model(inputs=model.input, outputs=x)"
      ],
      "metadata": {
        "id": "JNxr_UzE82b8"
      },
      "execution_count": 5,
      "outputs": []
    },
    {
      "cell_type": "code",
      "source": [
        "for layer in model.layers[:-30]:\n",
        "    layer.trainable = False"
      ],
      "metadata": {
        "id": "s4s8MWvw9Q3P"
      },
      "execution_count": 6,
      "outputs": []
    },
    {
      "cell_type": "code",
      "source": [
        "from tensorflow.python.keras import optimizers\n",
        "\n",
        "sgd = tf.keras.optimizers.SGD(learning_rate=0.01, weight_decay = 1e-6, momentum = 0.9, nesterov = True)\n",
        "model.compile(optimizer = sgd, loss = 'categorical_crossentropy', metrics = ['accuracy'])"
      ],
      "metadata": {
        "id": "kHRmTX3t9UBw"
      },
      "execution_count": 7,
      "outputs": []
    },
    {
      "cell_type": "code",
      "source": [
        "step_size_train=train_set.n//train_set.batch_size\n",
        "step_size_valid=valid_set.n//valid_set.batch_size"
      ],
      "metadata": {
        "id": "1za3tTrv9W6C"
      },
      "execution_count": 8,
      "outputs": []
    },
    {
      "cell_type": "code",
      "source": [
        "model.fit(x=train_set, steps_per_epoch=step_size_train, validation_data= valid_set, validation_steps=step_size_valid, epochs=30)"
      ],
      "metadata": {
        "colab": {
          "base_uri": "https://localhost:8080/"
        },
        "id": "jU3wmfac9lZp",
        "outputId": "6a7654be-d0ff-4e7e-fddb-b4144a2b9ad5"
      },
      "execution_count": 9,
      "outputs": [
        {
          "output_type": "stream",
          "name": "stdout",
          "text": [
            "Epoch 1/30\n",
            "56/56 [==============================] - 1712s 30s/step - loss: 2.0797 - accuracy: 0.1217 - val_loss: 2.0795 - val_accuracy: 0.1250\n",
            "Epoch 2/30\n",
            "56/56 [==============================] - 189s 3s/step - loss: 2.0798 - accuracy: 0.1269 - val_loss: 2.0795 - val_accuracy: 0.1250\n",
            "Epoch 3/30\n",
            "56/56 [==============================] - 191s 3s/step - loss: 2.0797 - accuracy: 0.1275 - val_loss: 2.0795 - val_accuracy: 0.1250\n",
            "Epoch 4/30\n",
            "56/56 [==============================] - 189s 3s/step - loss: 2.0797 - accuracy: 0.1131 - val_loss: 2.0795 - val_accuracy: 0.1250\n",
            "Epoch 5/30\n",
            "56/56 [==============================] - 189s 3s/step - loss: 2.0797 - accuracy: 0.1232 - val_loss: 2.0795 - val_accuracy: 0.1250\n",
            "Epoch 6/30\n",
            "56/56 [==============================] - 189s 3s/step - loss: 2.0798 - accuracy: 0.1268 - val_loss: 2.0795 - val_accuracy: 0.1250\n",
            "Epoch 7/30\n",
            "56/56 [==============================] - 188s 3s/step - loss: 2.0798 - accuracy: 0.1210 - val_loss: 2.0795 - val_accuracy: 0.1250\n",
            "Epoch 8/30\n",
            "56/56 [==============================] - 187s 3s/step - loss: 2.0797 - accuracy: 0.1275 - val_loss: 2.0795 - val_accuracy: 0.1250\n",
            "Epoch 9/30\n",
            "56/56 [==============================] - 186s 3s/step - loss: 2.0797 - accuracy: 0.1268 - val_loss: 2.0795 - val_accuracy: 0.1250\n",
            "Epoch 10/30\n",
            "56/56 [==============================] - 187s 3s/step - loss: 2.0797 - accuracy: 0.1242 - val_loss: 2.0795 - val_accuracy: 0.1250\n",
            "Epoch 11/30\n",
            "56/56 [==============================] - 186s 3s/step - loss: 2.0798 - accuracy: 0.1246 - val_loss: 2.0795 - val_accuracy: 0.1250\n",
            "Epoch 12/30\n",
            "56/56 [==============================] - 188s 3s/step - loss: 2.0797 - accuracy: 0.1271 - val_loss: 2.0795 - val_accuracy: 0.1250\n",
            "Epoch 13/30\n",
            "56/56 [==============================] - 195s 3s/step - loss: 2.0796 - accuracy: 0.1246 - val_loss: 2.0795 - val_accuracy: 0.1250\n",
            "Epoch 14/30\n",
            "56/56 [==============================] - 195s 4s/step - loss: 2.0797 - accuracy: 0.1239 - val_loss: 2.0795 - val_accuracy: 0.1250\n",
            "Epoch 15/30\n",
            "56/56 [==============================] - 197s 4s/step - loss: 2.0798 - accuracy: 0.1223 - val_loss: 2.0795 - val_accuracy: 0.1250\n",
            "Epoch 16/30\n",
            "56/56 [==============================] - 187s 3s/step - loss: 2.0797 - accuracy: 0.1271 - val_loss: 2.0795 - val_accuracy: 0.1250\n",
            "Epoch 17/30\n",
            "56/56 [==============================] - 186s 3s/step - loss: 2.0797 - accuracy: 0.1273 - val_loss: 2.0795 - val_accuracy: 0.1250\n",
            "Epoch 18/30\n",
            "56/56 [==============================] - 187s 3s/step - loss: 2.0798 - accuracy: 0.1271 - val_loss: 2.0795 - val_accuracy: 0.1250\n",
            "Epoch 19/30\n",
            "56/56 [==============================] - 194s 3s/step - loss: 2.0797 - accuracy: 0.1244 - val_loss: 2.0794 - val_accuracy: 0.1250\n",
            "Epoch 20/30\n",
            "56/56 [==============================] - 185s 3s/step - loss: 2.0797 - accuracy: 0.1287 - val_loss: 2.0795 - val_accuracy: 0.1250\n",
            "Epoch 21/30\n",
            "56/56 [==============================] - 185s 3s/step - loss: 2.0797 - accuracy: 0.1259 - val_loss: 2.0795 - val_accuracy: 0.1250\n",
            "Epoch 22/30\n",
            "56/56 [==============================] - 185s 3s/step - loss: 2.0797 - accuracy: 0.1277 - val_loss: 2.0795 - val_accuracy: 0.1250\n",
            "Epoch 23/30\n",
            "56/56 [==============================] - 185s 3s/step - loss: 2.0798 - accuracy: 0.1244 - val_loss: 2.0795 - val_accuracy: 0.1250\n",
            "Epoch 24/30\n",
            "56/56 [==============================] - 188s 3s/step - loss: 2.0797 - accuracy: 0.1289 - val_loss: 2.0795 - val_accuracy: 0.1250\n",
            "Epoch 25/30\n",
            "56/56 [==============================] - 187s 3s/step - loss: 2.0797 - accuracy: 0.1284 - val_loss: 2.0795 - val_accuracy: 0.1250\n",
            "Epoch 26/30\n",
            "56/56 [==============================] - 184s 3s/step - loss: 2.0797 - accuracy: 0.1230 - val_loss: 2.0795 - val_accuracy: 0.1250\n",
            "Epoch 27/30\n",
            "56/56 [==============================] - 186s 3s/step - loss: 2.0797 - accuracy: 0.1194 - val_loss: 2.0795 - val_accuracy: 0.1250\n",
            "Epoch 28/30\n",
            "56/56 [==============================] - 187s 3s/step - loss: 2.0797 - accuracy: 0.1223 - val_loss: 2.0795 - val_accuracy: 0.1250\n",
            "Epoch 29/30\n",
            "56/56 [==============================] - 184s 3s/step - loss: 2.0797 - accuracy: 0.1147 - val_loss: 2.0795 - val_accuracy: 0.1250\n",
            "Epoch 30/30\n",
            "56/56 [==============================] - 196s 4s/step - loss: 2.0797 - accuracy: 0.1284 - val_loss: 2.0795 - val_accuracy: 0.1250\n"
          ]
        },
        {
          "output_type": "execute_result",
          "data": {
            "text/plain": [
              "<keras.callbacks.History at 0x7fe0243362b0>"
            ]
          },
          "metadata": {},
          "execution_count": 9
        }
      ]
    },
    {
      "cell_type": "code",
      "source": [
        "model.save('/content/drive/MyDrive/Progetto/Models/Modello EfficientNetB0 2')"
      ],
      "metadata": {
        "colab": {
          "base_uri": "https://localhost:8080/",
          "height": 349
        },
        "id": "-ha4bmTp_Rxo",
        "outputId": "0598fa58-b7eb-4896-fd23-53d5ca365c1d"
      },
      "execution_count": 10,
      "outputs": [
        {
          "output_type": "stream",
          "name": "stderr",
          "text": [
            "WARNING:absl:Found untraced functions such as _jit_compiled_convolution_op, _jit_compiled_convolution_op, _jit_compiled_convolution_op, _jit_compiled_convolution_op, _jit_compiled_convolution_op while saving (showing 5 of 81). These functions will not be directly callable after loading.\n"
          ]
        },
        {
          "output_type": "error",
          "ename": "TypeError",
          "evalue": "ignored",
          "traceback": [
            "\u001b[0;31m---------------------------------------------------------------------------\u001b[0m",
            "\u001b[0;31mTypeError\u001b[0m                                 Traceback (most recent call last)",
            "\u001b[0;32m<ipython-input-10-6d370d44b217>\u001b[0m in \u001b[0;36m<module>\u001b[0;34m\u001b[0m\n\u001b[0;32m----> 1\u001b[0;31m \u001b[0mmodel\u001b[0m\u001b[0;34m.\u001b[0m\u001b[0msave\u001b[0m\u001b[0;34m(\u001b[0m\u001b[0;34m'/content/drive/MyDrive/Progetto/Models/Modello EfficientNetB0 2'\u001b[0m\u001b[0;34m)\u001b[0m\u001b[0;34m\u001b[0m\u001b[0;34m\u001b[0m\u001b[0m\n\u001b[0m",
            "\u001b[0;32m/usr/local/lib/python3.8/dist-packages/keras/utils/traceback_utils.py\u001b[0m in \u001b[0;36merror_handler\u001b[0;34m(*args, **kwargs)\u001b[0m\n\u001b[1;32m     68\u001b[0m             \u001b[0;31m# To get the full stack trace, call:\u001b[0m\u001b[0;34m\u001b[0m\u001b[0;34m\u001b[0m\u001b[0;34m\u001b[0m\u001b[0m\n\u001b[1;32m     69\u001b[0m             \u001b[0;31m# `tf.debugging.disable_traceback_filtering()`\u001b[0m\u001b[0;34m\u001b[0m\u001b[0;34m\u001b[0m\u001b[0;34m\u001b[0m\u001b[0m\n\u001b[0;32m---> 70\u001b[0;31m             \u001b[0;32mraise\u001b[0m \u001b[0me\u001b[0m\u001b[0;34m.\u001b[0m\u001b[0mwith_traceback\u001b[0m\u001b[0;34m(\u001b[0m\u001b[0mfiltered_tb\u001b[0m\u001b[0;34m)\u001b[0m \u001b[0;32mfrom\u001b[0m \u001b[0;32mNone\u001b[0m\u001b[0;34m\u001b[0m\u001b[0;34m\u001b[0m\u001b[0m\n\u001b[0m\u001b[1;32m     71\u001b[0m         \u001b[0;32mfinally\u001b[0m\u001b[0;34m:\u001b[0m\u001b[0;34m\u001b[0m\u001b[0;34m\u001b[0m\u001b[0m\n\u001b[1;32m     72\u001b[0m             \u001b[0;32mdel\u001b[0m \u001b[0mfiltered_tb\u001b[0m\u001b[0;34m\u001b[0m\u001b[0;34m\u001b[0m\u001b[0m\n",
            "\u001b[0;32m/usr/lib/python3.8/json/encoder.py\u001b[0m in \u001b[0;36mencode\u001b[0;34m(self, o)\u001b[0m\n\u001b[1;32m    197\u001b[0m         \u001b[0;31m# exceptions aren't as detailed.  The list call should be roughly\u001b[0m\u001b[0;34m\u001b[0m\u001b[0;34m\u001b[0m\u001b[0;34m\u001b[0m\u001b[0m\n\u001b[1;32m    198\u001b[0m         \u001b[0;31m# equivalent to the PySequence_Fast that ''.join() would do.\u001b[0m\u001b[0;34m\u001b[0m\u001b[0;34m\u001b[0m\u001b[0;34m\u001b[0m\u001b[0m\n\u001b[0;32m--> 199\u001b[0;31m         \u001b[0mchunks\u001b[0m \u001b[0;34m=\u001b[0m \u001b[0mself\u001b[0m\u001b[0;34m.\u001b[0m\u001b[0miterencode\u001b[0m\u001b[0;34m(\u001b[0m\u001b[0mo\u001b[0m\u001b[0;34m,\u001b[0m \u001b[0m_one_shot\u001b[0m\u001b[0;34m=\u001b[0m\u001b[0;32mTrue\u001b[0m\u001b[0;34m)\u001b[0m\u001b[0;34m\u001b[0m\u001b[0;34m\u001b[0m\u001b[0m\n\u001b[0m\u001b[1;32m    200\u001b[0m         \u001b[0;32mif\u001b[0m \u001b[0;32mnot\u001b[0m \u001b[0misinstance\u001b[0m\u001b[0;34m(\u001b[0m\u001b[0mchunks\u001b[0m\u001b[0;34m,\u001b[0m \u001b[0;34m(\u001b[0m\u001b[0mlist\u001b[0m\u001b[0;34m,\u001b[0m \u001b[0mtuple\u001b[0m\u001b[0;34m)\u001b[0m\u001b[0;34m)\u001b[0m\u001b[0;34m:\u001b[0m\u001b[0;34m\u001b[0m\u001b[0;34m\u001b[0m\u001b[0m\n\u001b[1;32m    201\u001b[0m             \u001b[0mchunks\u001b[0m \u001b[0;34m=\u001b[0m \u001b[0mlist\u001b[0m\u001b[0;34m(\u001b[0m\u001b[0mchunks\u001b[0m\u001b[0;34m)\u001b[0m\u001b[0;34m\u001b[0m\u001b[0;34m\u001b[0m\u001b[0m\n",
            "\u001b[0;32m/usr/lib/python3.8/json/encoder.py\u001b[0m in \u001b[0;36miterencode\u001b[0;34m(self, o, _one_shot)\u001b[0m\n\u001b[1;32m    255\u001b[0m                 \u001b[0mself\u001b[0m\u001b[0;34m.\u001b[0m\u001b[0mkey_separator\u001b[0m\u001b[0;34m,\u001b[0m \u001b[0mself\u001b[0m\u001b[0;34m.\u001b[0m\u001b[0mitem_separator\u001b[0m\u001b[0;34m,\u001b[0m \u001b[0mself\u001b[0m\u001b[0;34m.\u001b[0m\u001b[0msort_keys\u001b[0m\u001b[0;34m,\u001b[0m\u001b[0;34m\u001b[0m\u001b[0;34m\u001b[0m\u001b[0m\n\u001b[1;32m    256\u001b[0m                 self.skipkeys, _one_shot)\n\u001b[0;32m--> 257\u001b[0;31m         \u001b[0;32mreturn\u001b[0m \u001b[0m_iterencode\u001b[0m\u001b[0;34m(\u001b[0m\u001b[0mo\u001b[0m\u001b[0;34m,\u001b[0m \u001b[0;36m0\u001b[0m\u001b[0;34m)\u001b[0m\u001b[0;34m\u001b[0m\u001b[0;34m\u001b[0m\u001b[0m\n\u001b[0m\u001b[1;32m    258\u001b[0m \u001b[0;34m\u001b[0m\u001b[0m\n\u001b[1;32m    259\u001b[0m def _make_iterencode(markers, _default, _encoder, _indent, _floatstr,\n",
            "\u001b[0;31mTypeError\u001b[0m: Unable to serialize [2.0896919 2.1128857 2.1081853] to JSON. Unrecognized type <class 'tensorflow.python.framework.ops.EagerTensor'>."
          ]
        }
      ]
    },
    {
      "cell_type": "code",
      "source": [
        "pred = model.predict(test_set, steps = len(test_set), verbose = 2)"
      ],
      "metadata": {
        "colab": {
          "base_uri": "https://localhost:8080/"
        },
        "id": "JxZfb7eOAO5N",
        "outputId": "708ab128-2be0-4bb7-e968-434e127f436b"
      },
      "execution_count": 11,
      "outputs": [
        {
          "output_type": "stream",
          "name": "stdout",
          "text": [
            "800/800 - 216s - 216s/epoch - 269ms/step\n"
          ]
        }
      ]
    },
    {
      "cell_type": "code",
      "source": [
        "predicted_class = np.argmax(pred, axis = 1)\n",
        "true_classes = test_set.classes\n",
        "class_labels= list(test_set.class_indices.keys())\n",
        "\n",
        "from sklearn.metrics import classification_report\n",
        "report = classification_report(true_classes, predicted_class, target_names=class_labels)\n",
        "print(report)"
      ],
      "metadata": {
        "colab": {
          "base_uri": "https://localhost:8080/"
        },
        "id": "KLVLnlXsAQoI",
        "outputId": "1266daa7-f604-450c-ad9b-28b89f68a1de"
      },
      "execution_count": 12,
      "outputs": [
        {
          "output_type": "stream",
          "name": "stdout",
          "text": [
            "                        precision    recall  f1-score   support\n",
            "\n",
            "    dyed-lifted-polyps       0.00      0.00      0.00       100\n",
            "dyed-resection-margins       0.12      1.00      0.22       100\n",
            "           esophagitis       0.00      0.00      0.00       100\n",
            "          normal-cecum       0.00      0.00      0.00       100\n",
            "        normal-pylorus       0.00      0.00      0.00       100\n",
            "         normal-z-line       0.00      0.00      0.00       100\n",
            "                polyps       0.00      0.00      0.00       100\n",
            "    ulcerative-colitis       0.00      0.00      0.00       100\n",
            "\n",
            "              accuracy                           0.12       800\n",
            "             macro avg       0.02      0.12      0.03       800\n",
            "          weighted avg       0.02      0.12      0.03       800\n",
            "\n"
          ]
        },
        {
          "output_type": "stream",
          "name": "stderr",
          "text": [
            "/usr/local/lib/python3.8/dist-packages/sklearn/metrics/_classification.py:1318: UndefinedMetricWarning: Precision and F-score are ill-defined and being set to 0.0 in labels with no predicted samples. Use `zero_division` parameter to control this behavior.\n",
            "  _warn_prf(average, modifier, msg_start, len(result))\n",
            "/usr/local/lib/python3.8/dist-packages/sklearn/metrics/_classification.py:1318: UndefinedMetricWarning: Precision and F-score are ill-defined and being set to 0.0 in labels with no predicted samples. Use `zero_division` parameter to control this behavior.\n",
            "  _warn_prf(average, modifier, msg_start, len(result))\n",
            "/usr/local/lib/python3.8/dist-packages/sklearn/metrics/_classification.py:1318: UndefinedMetricWarning: Precision and F-score are ill-defined and being set to 0.0 in labels with no predicted samples. Use `zero_division` parameter to control this behavior.\n",
            "  _warn_prf(average, modifier, msg_start, len(result))\n"
          ]
        }
      ]
    }
  ]
}