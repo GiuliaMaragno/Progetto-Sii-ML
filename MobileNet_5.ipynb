{
  "nbformat": 4,
  "nbformat_minor": 0,
  "metadata": {
    "colab": {
      "provenance": [],
      "mount_file_id": "17hoz_QyS89-2aA7zZPuJ5FEJPVMPcwwS",
      "authorship_tag": "ABX9TyNihI4Cyj/PT+21PPLlI1Dw",
      "include_colab_link": true
    },
    "kernelspec": {
      "name": "python3",
      "display_name": "Python 3"
    },
    "language_info": {
      "name": "python"
    },
    "accelerator": "GPU",
    "gpuClass": "standard"
  },
  "cells": [
    {
      "cell_type": "markdown",
      "metadata": {
        "id": "view-in-github",
        "colab_type": "text"
      },
      "source": [
        "<a href=\"https://colab.research.google.com/github/GiuliaMaragno/Progetto-Sii-ML/blob/main/MobileNet_5.ipynb\" target=\"_parent\"><img src=\"https://colab.research.google.com/assets/colab-badge.svg\" alt=\"Open In Colab\"/></a>"
      ]
    },
    {
      "cell_type": "code",
      "execution_count": 1,
      "metadata": {
        "id": "NZOeqGQglG3z"
      },
      "outputs": [],
      "source": [
        "import numpy as np\n",
        "import pandas as pd\n",
        "import tensorflow as tf\n",
        "from tensorflow import keras\n",
        "\n",
        "from tensorflow.keras.models import Model\n",
        "from tensorflow.keras.layers import Dense, Conv2D, MaxPooling2D, Flatten, Dropout\n",
        "from tensorflow.keras.preprocessing.image import ImageDataGenerator\n",
        "from tensorflow.keras.preprocessing import image\n",
        "from matplotlib import pyplot as plt\n",
        "\n",
        "\n",
        "\n",
        "\n",
        "from tensorflow.keras.applications import VGG16\n",
        "from tensorflow.keras.optimizers import Adam\n",
        "from tensorflow.keras.models import Sequential\n",
        "     "
      ]
    },
    {
      "cell_type": "markdown",
      "source": [
        "train valid test 70 20 10\n",
        "\n",
        "\n",
        "> Modello: MobileNet\n",
        "\n",
        "> target_size=576, 576\n",
        "\n",
        "> batch_size=100\n",
        "\n",
        "> optimizer: SDG\n",
        "\n",
        "> epoche: 25"
      ],
      "metadata": {
        "id": "aiYrFHeElxDb"
      }
    },
    {
      "cell_type": "code",
      "source": [
        "train_path ='/content/drive/MyDrive/kvasir-dataset-v2/train'\n",
        "valid_path='/content/drive/MyDrive/kvasir-dataset-v2/valid'\n",
        "test_path='/content/drive/MyDrive/kvasir-dataset-v2/test'\n",
        "\n",
        "train_datagen = ImageDataGenerator(rescale=1./255, shear_range=0.2, zoom_range=0.1, horizontal_flip=True)\n",
        "valid_datagen = ImageDataGenerator(rescale=1./255)"
      ],
      "metadata": {
        "id": "4AdijJeql1CF"
      },
      "execution_count": 2,
      "outputs": []
    },
    {
      "cell_type": "code",
      "source": [
        "train_set = train_datagen.flow_from_directory(directory=train_path, target_size=(224, 224), class_mode='categorical', batch_size=100)\n",
        "valid_set = valid_datagen.flow_from_directory(directory=valid_path, target_size=(224, 224), class_mode='categorical', batch_size=100)\n",
        "test_set = valid_datagen.flow_from_directory(directory=test_path, target_size=(224,224), class_mode='categorical', batch_size=1, shuffle=False)"
      ],
      "metadata": {
        "colab": {
          "base_uri": "https://localhost:8080/"
        },
        "id": "dvx9yrKImFkW",
        "outputId": "c15dd3a6-23b3-4c2f-8372-15201a365e06"
      },
      "execution_count": 10,
      "outputs": [
        {
          "output_type": "stream",
          "name": "stdout",
          "text": [
            "Found 5733 images belonging to 8 classes.\n",
            "Found 1600 images belonging to 8 classes.\n",
            "Found 800 images belonging to 8 classes.\n"
          ]
        }
      ]
    },
    {
      "cell_type": "code",
      "source": [
        "print(\"Batch Size for Input Image train_set: \",train_set[0][0].shape)\n",
        "print(\"Batch Size for Input Image valid_set: \",valid_set[0][0].shape)\n",
        "print(\"Batch Size for Input Image test_set: \",test_set[0][0].shape)\n",
        "print(\"Batch Size for Output Image train_set: \",train_set[0][1].shape)\n",
        "print(\"Batch Size for Output Image valid_set: \",valid_set[0][1].shape)\n",
        "print(\"Batch Size for Output Image test_set: \",test_set[0][1].shape)\n",
        "print(\"Image Size of first image train: \",train_set[0][0][0].shape)\n",
        "print(\"Image Size of first image valid: \",valid_set[0][0][0].shape)\n",
        "print(\"Image Size of first image test: \",test_set[0][0][0].shape)\n",
        "print(\"Output of first image train: \",train_set[0][1][0].shape)\n",
        "print(\"Output of first image valid: \",valid_set[0][1][0].shape)\n",
        "print(\"Output of first image test: \",test_set[0][1][0].shape)"
      ],
      "metadata": {
        "colab": {
          "base_uri": "https://localhost:8080/"
        },
        "id": "lqdDq0BumTA7",
        "outputId": "de819d45-1597-4278-f799-fddd88e0f8a3"
      },
      "execution_count": 4,
      "outputs": [
        {
          "output_type": "stream",
          "name": "stdout",
          "text": [
            "Batch Size for Input Image train_set:  (100, 512, 512, 3)\n",
            "Batch Size for Input Image valid_set:  (100, 512, 512, 3)\n",
            "Batch Size for Input Image test_set:  (1, 512, 512, 3)\n",
            "Batch Size for Output Image train_set:  (100, 8)\n",
            "Batch Size for Output Image valid_set:  (100, 8)\n",
            "Batch Size for Output Image test_set:  (1, 8)\n",
            "Image Size of first image train:  (512, 512, 3)\n",
            "Image Size of first image valid:  (512, 512, 3)\n",
            "Image Size of first image test:  (512, 512, 3)\n",
            "Output of first image train:  (8,)\n",
            "Output of first image valid:  (8,)\n",
            "Output of first image test:  (8,)\n"
          ]
        }
      ]
    },
    {
      "cell_type": "code",
      "source": [
        "mobile = tf.keras.applications.mobilenet.MobileNet()"
      ],
      "metadata": {
        "colab": {
          "base_uri": "https://localhost:8080/"
        },
        "id": "h_I7qMALmuHU",
        "outputId": "e23c26c0-dc66-4cee-9eac-7688a79b854e"
      },
      "execution_count": 4,
      "outputs": [
        {
          "output_type": "stream",
          "name": "stdout",
          "text": [
            "Downloading data from https://storage.googleapis.com/tensorflow/keras-applications/mobilenet/mobilenet_1_0_224_tf.h5\n",
            "17225924/17225924 [==============================] - 2s 0us/step\n"
          ]
        }
      ]
    },
    {
      "cell_type": "code",
      "source": [
        "x = mobile.layers[-2].output\n",
        "output = Dense(units=8, activation='softmax')(x)\n",
        "model = Model(inputs=mobile.input, outputs=output)"
      ],
      "metadata": {
        "id": "npC6vs-7ngfg"
      },
      "execution_count": 11,
      "outputs": []
    },
    {
      "cell_type": "code",
      "source": [
        "model.summary()"
      ],
      "metadata": {
        "colab": {
          "base_uri": "https://localhost:8080/"
        },
        "id": "Oou1454RnrMD",
        "outputId": "21c06fd8-171a-4741-fe5d-d2ce50cb9ad6"
      },
      "execution_count": 6,
      "outputs": [
        {
          "output_type": "stream",
          "name": "stdout",
          "text": [
            "Model: \"model\"\n",
            "_________________________________________________________________\n",
            " Layer (type)                Output Shape              Param #   \n",
            "=================================================================\n",
            " input_1 (InputLayer)        [(None, 224, 224, 3)]     0         \n",
            "                                                                 \n",
            " conv1 (Conv2D)              (None, 112, 112, 32)      864       \n",
            "                                                                 \n",
            " conv1_bn (BatchNormalizatio  (None, 112, 112, 32)     128       \n",
            " n)                                                              \n",
            "                                                                 \n",
            " conv1_relu (ReLU)           (None, 112, 112, 32)      0         \n",
            "                                                                 \n",
            " conv_dw_1 (DepthwiseConv2D)  (None, 112, 112, 32)     288       \n",
            "                                                                 \n",
            " conv_dw_1_bn (BatchNormaliz  (None, 112, 112, 32)     128       \n",
            " ation)                                                          \n",
            "                                                                 \n",
            " conv_dw_1_relu (ReLU)       (None, 112, 112, 32)      0         \n",
            "                                                                 \n",
            " conv_pw_1 (Conv2D)          (None, 112, 112, 64)      2048      \n",
            "                                                                 \n",
            " conv_pw_1_bn (BatchNormaliz  (None, 112, 112, 64)     256       \n",
            " ation)                                                          \n",
            "                                                                 \n",
            " conv_pw_1_relu (ReLU)       (None, 112, 112, 64)      0         \n",
            "                                                                 \n",
            " conv_pad_2 (ZeroPadding2D)  (None, 113, 113, 64)      0         \n",
            "                                                                 \n",
            " conv_dw_2 (DepthwiseConv2D)  (None, 56, 56, 64)       576       \n",
            "                                                                 \n",
            " conv_dw_2_bn (BatchNormaliz  (None, 56, 56, 64)       256       \n",
            " ation)                                                          \n",
            "                                                                 \n",
            " conv_dw_2_relu (ReLU)       (None, 56, 56, 64)        0         \n",
            "                                                                 \n",
            " conv_pw_2 (Conv2D)          (None, 56, 56, 128)       8192      \n",
            "                                                                 \n",
            " conv_pw_2_bn (BatchNormaliz  (None, 56, 56, 128)      512       \n",
            " ation)                                                          \n",
            "                                                                 \n",
            " conv_pw_2_relu (ReLU)       (None, 56, 56, 128)       0         \n",
            "                                                                 \n",
            " conv_dw_3 (DepthwiseConv2D)  (None, 56, 56, 128)      1152      \n",
            "                                                                 \n",
            " conv_dw_3_bn (BatchNormaliz  (None, 56, 56, 128)      512       \n",
            " ation)                                                          \n",
            "                                                                 \n",
            " conv_dw_3_relu (ReLU)       (None, 56, 56, 128)       0         \n",
            "                                                                 \n",
            " conv_pw_3 (Conv2D)          (None, 56, 56, 128)       16384     \n",
            "                                                                 \n",
            " conv_pw_3_bn (BatchNormaliz  (None, 56, 56, 128)      512       \n",
            " ation)                                                          \n",
            "                                                                 \n",
            " conv_pw_3_relu (ReLU)       (None, 56, 56, 128)       0         \n",
            "                                                                 \n",
            " conv_pad_4 (ZeroPadding2D)  (None, 57, 57, 128)       0         \n",
            "                                                                 \n",
            " conv_dw_4 (DepthwiseConv2D)  (None, 28, 28, 128)      1152      \n",
            "                                                                 \n",
            " conv_dw_4_bn (BatchNormaliz  (None, 28, 28, 128)      512       \n",
            " ation)                                                          \n",
            "                                                                 \n",
            " conv_dw_4_relu (ReLU)       (None, 28, 28, 128)       0         \n",
            "                                                                 \n",
            " conv_pw_4 (Conv2D)          (None, 28, 28, 256)       32768     \n",
            "                                                                 \n",
            " conv_pw_4_bn (BatchNormaliz  (None, 28, 28, 256)      1024      \n",
            " ation)                                                          \n",
            "                                                                 \n",
            " conv_pw_4_relu (ReLU)       (None, 28, 28, 256)       0         \n",
            "                                                                 \n",
            " conv_dw_5 (DepthwiseConv2D)  (None, 28, 28, 256)      2304      \n",
            "                                                                 \n",
            " conv_dw_5_bn (BatchNormaliz  (None, 28, 28, 256)      1024      \n",
            " ation)                                                          \n",
            "                                                                 \n",
            " conv_dw_5_relu (ReLU)       (None, 28, 28, 256)       0         \n",
            "                                                                 \n",
            " conv_pw_5 (Conv2D)          (None, 28, 28, 256)       65536     \n",
            "                                                                 \n",
            " conv_pw_5_bn (BatchNormaliz  (None, 28, 28, 256)      1024      \n",
            " ation)                                                          \n",
            "                                                                 \n",
            " conv_pw_5_relu (ReLU)       (None, 28, 28, 256)       0         \n",
            "                                                                 \n",
            " conv_pad_6 (ZeroPadding2D)  (None, 29, 29, 256)       0         \n",
            "                                                                 \n",
            " conv_dw_6 (DepthwiseConv2D)  (None, 14, 14, 256)      2304      \n",
            "                                                                 \n",
            " conv_dw_6_bn (BatchNormaliz  (None, 14, 14, 256)      1024      \n",
            " ation)                                                          \n",
            "                                                                 \n",
            " conv_dw_6_relu (ReLU)       (None, 14, 14, 256)       0         \n",
            "                                                                 \n",
            " conv_pw_6 (Conv2D)          (None, 14, 14, 512)       131072    \n",
            "                                                                 \n",
            " conv_pw_6_bn (BatchNormaliz  (None, 14, 14, 512)      2048      \n",
            " ation)                                                          \n",
            "                                                                 \n",
            " conv_pw_6_relu (ReLU)       (None, 14, 14, 512)       0         \n",
            "                                                                 \n",
            " conv_dw_7 (DepthwiseConv2D)  (None, 14, 14, 512)      4608      \n",
            "                                                                 \n",
            " conv_dw_7_bn (BatchNormaliz  (None, 14, 14, 512)      2048      \n",
            " ation)                                                          \n",
            "                                                                 \n",
            " conv_dw_7_relu (ReLU)       (None, 14, 14, 512)       0         \n",
            "                                                                 \n",
            " conv_pw_7 (Conv2D)          (None, 14, 14, 512)       262144    \n",
            "                                                                 \n",
            " conv_pw_7_bn (BatchNormaliz  (None, 14, 14, 512)      2048      \n",
            " ation)                                                          \n",
            "                                                                 \n",
            " conv_pw_7_relu (ReLU)       (None, 14, 14, 512)       0         \n",
            "                                                                 \n",
            " conv_dw_8 (DepthwiseConv2D)  (None, 14, 14, 512)      4608      \n",
            "                                                                 \n",
            " conv_dw_8_bn (BatchNormaliz  (None, 14, 14, 512)      2048      \n",
            " ation)                                                          \n",
            "                                                                 \n",
            " conv_dw_8_relu (ReLU)       (None, 14, 14, 512)       0         \n",
            "                                                                 \n",
            " conv_pw_8 (Conv2D)          (None, 14, 14, 512)       262144    \n",
            "                                                                 \n",
            " conv_pw_8_bn (BatchNormaliz  (None, 14, 14, 512)      2048      \n",
            " ation)                                                          \n",
            "                                                                 \n",
            " conv_pw_8_relu (ReLU)       (None, 14, 14, 512)       0         \n",
            "                                                                 \n",
            " conv_dw_9 (DepthwiseConv2D)  (None, 14, 14, 512)      4608      \n",
            "                                                                 \n",
            " conv_dw_9_bn (BatchNormaliz  (None, 14, 14, 512)      2048      \n",
            " ation)                                                          \n",
            "                                                                 \n",
            " conv_dw_9_relu (ReLU)       (None, 14, 14, 512)       0         \n",
            "                                                                 \n",
            " conv_pw_9 (Conv2D)          (None, 14, 14, 512)       262144    \n",
            "                                                                 \n",
            " conv_pw_9_bn (BatchNormaliz  (None, 14, 14, 512)      2048      \n",
            " ation)                                                          \n",
            "                                                                 \n",
            " conv_pw_9_relu (ReLU)       (None, 14, 14, 512)       0         \n",
            "                                                                 \n",
            " conv_dw_10 (DepthwiseConv2D  (None, 14, 14, 512)      4608      \n",
            " )                                                               \n",
            "                                                                 \n",
            " conv_dw_10_bn (BatchNormali  (None, 14, 14, 512)      2048      \n",
            " zation)                                                         \n",
            "                                                                 \n",
            " conv_dw_10_relu (ReLU)      (None, 14, 14, 512)       0         \n",
            "                                                                 \n",
            " conv_pw_10 (Conv2D)         (None, 14, 14, 512)       262144    \n",
            "                                                                 \n",
            " conv_pw_10_bn (BatchNormali  (None, 14, 14, 512)      2048      \n",
            " zation)                                                         \n",
            "                                                                 \n",
            " conv_pw_10_relu (ReLU)      (None, 14, 14, 512)       0         \n",
            "                                                                 \n",
            " conv_dw_11 (DepthwiseConv2D  (None, 14, 14, 512)      4608      \n",
            " )                                                               \n",
            "                                                                 \n",
            " conv_dw_11_bn (BatchNormali  (None, 14, 14, 512)      2048      \n",
            " zation)                                                         \n",
            "                                                                 \n",
            " conv_dw_11_relu (ReLU)      (None, 14, 14, 512)       0         \n",
            "                                                                 \n",
            " conv_pw_11 (Conv2D)         (None, 14, 14, 512)       262144    \n",
            "                                                                 \n",
            " conv_pw_11_bn (BatchNormali  (None, 14, 14, 512)      2048      \n",
            " zation)                                                         \n",
            "                                                                 \n",
            " conv_pw_11_relu (ReLU)      (None, 14, 14, 512)       0         \n",
            "                                                                 \n",
            " conv_pad_12 (ZeroPadding2D)  (None, 15, 15, 512)      0         \n",
            "                                                                 \n",
            " conv_dw_12 (DepthwiseConv2D  (None, 7, 7, 512)        4608      \n",
            " )                                                               \n",
            "                                                                 \n",
            " conv_dw_12_bn (BatchNormali  (None, 7, 7, 512)        2048      \n",
            " zation)                                                         \n",
            "                                                                 \n",
            " conv_dw_12_relu (ReLU)      (None, 7, 7, 512)         0         \n",
            "                                                                 \n",
            " conv_pw_12 (Conv2D)         (None, 7, 7, 1024)        524288    \n",
            "                                                                 \n",
            " conv_pw_12_bn (BatchNormali  (None, 7, 7, 1024)       4096      \n",
            " zation)                                                         \n",
            "                                                                 \n",
            " conv_pw_12_relu (ReLU)      (None, 7, 7, 1024)        0         \n",
            "                                                                 \n",
            " conv_dw_13 (DepthwiseConv2D  (None, 7, 7, 1024)       9216      \n",
            " )                                                               \n",
            "                                                                 \n",
            " conv_dw_13_bn (BatchNormali  (None, 7, 7, 1024)       4096      \n",
            " zation)                                                         \n",
            "                                                                 \n",
            " conv_dw_13_relu (ReLU)      (None, 7, 7, 1024)        0         \n",
            "                                                                 \n",
            " conv_pw_13 (Conv2D)         (None, 7, 7, 1024)        1048576   \n",
            "                                                                 \n",
            " conv_pw_13_bn (BatchNormali  (None, 7, 7, 1024)       4096      \n",
            " zation)                                                         \n",
            "                                                                 \n",
            " conv_pw_13_relu (ReLU)      (None, 7, 7, 1024)        0         \n",
            "                                                                 \n",
            " global_average_pooling2d (G  (None, 1, 1, 1024)       0         \n",
            " lobalAveragePooling2D)                                          \n",
            "                                                                 \n",
            " dropout (Dropout)           (None, 1, 1, 1024)        0         \n",
            "                                                                 \n",
            " conv_preds (Conv2D)         (None, 1, 1, 1000)        1025000   \n",
            "                                                                 \n",
            " reshape_2 (Reshape)         (None, 1000)              0         \n",
            "                                                                 \n",
            " dense (Dense)               (None, 8)                 8008      \n",
            "                                                                 \n",
            "=================================================================\n",
            "Total params: 4,261,872\n",
            "Trainable params: 4,239,984\n",
            "Non-trainable params: 21,888\n",
            "_________________________________________________________________\n"
          ]
        }
      ]
    },
    {
      "cell_type": "code",
      "source": [
        "from tensorflow.python.keras import optimizers\n",
        "\n",
        "sgd = tf.keras.optimizers.SGD(learning_rate=0.01, weight_decay = 1e-6, momentum = 0.9, nesterov = True)\n",
        "model.compile(optimizer = sgd, loss = 'categorical_crossentropy', metrics = ['accuracy'])"
      ],
      "metadata": {
        "id": "fkc0-FJ2o3Xk"
      },
      "execution_count": 12,
      "outputs": []
    },
    {
      "cell_type": "code",
      "source": [
        "step_size_train=train_set.n//train_set.batch_size\n",
        "step_size_valid=valid_set.n//valid_set.batch_size"
      ],
      "metadata": {
        "id": "sl-FWnrNo68M"
      },
      "execution_count": 13,
      "outputs": []
    },
    {
      "cell_type": "code",
      "source": [
        "model.fit(x=train_set, steps_per_epoch=step_size_train, validation_data= valid_set, validation_steps=step_size_valid, epochs=25)"
      ],
      "metadata": {
        "colab": {
          "base_uri": "https://localhost:8080/"
        },
        "id": "7amVTFzbpFSi",
        "outputId": "3de6efb2-e41d-4974-8147-444103de9aa7"
      },
      "execution_count": 14,
      "outputs": [
        {
          "output_type": "stream",
          "name": "stdout",
          "text": [
            "Epoch 1/25\n",
            "57/57 [==============================] - 3756s 66s/step - loss: 1.1406 - accuracy: 0.7662 - val_loss: 36.6466 - val_accuracy: 0.1250\n",
            "Epoch 2/25\n",
            "57/57 [==============================] - 192s 3s/step - loss: 0.3998 - accuracy: 0.8736 - val_loss: 2.6723 - val_accuracy: 0.6294\n",
            "Epoch 3/25\n",
            "57/57 [==============================] - 191s 3s/step - loss: 0.2368 - accuracy: 0.9160 - val_loss: 0.5208 - val_accuracy: 0.8744\n",
            "Epoch 4/25\n",
            "57/57 [==============================] - 190s 3s/step - loss: 0.1745 - accuracy: 0.9386 - val_loss: 0.4340 - val_accuracy: 0.8769\n",
            "Epoch 5/25\n",
            "57/57 [==============================] - 200s 4s/step - loss: 0.1210 - accuracy: 0.9558 - val_loss: 0.4643 - val_accuracy: 0.8831\n",
            "Epoch 6/25\n",
            "57/57 [==============================] - 188s 3s/step - loss: 0.0991 - accuracy: 0.9633 - val_loss: 0.3708 - val_accuracy: 0.8938\n",
            "Epoch 7/25\n",
            "57/57 [==============================] - 189s 3s/step - loss: 0.0826 - accuracy: 0.9682 - val_loss: 0.4677 - val_accuracy: 0.8662\n",
            "Epoch 8/25\n",
            "57/57 [==============================] - 189s 3s/step - loss: 0.0598 - accuracy: 0.9762 - val_loss: 0.4566 - val_accuracy: 0.8838\n",
            "Epoch 9/25\n",
            "57/57 [==============================] - 187s 3s/step - loss: 0.0662 - accuracy: 0.9767 - val_loss: 0.5414 - val_accuracy: 0.8637\n",
            "Epoch 10/25\n",
            "57/57 [==============================] - 188s 3s/step - loss: 0.0493 - accuracy: 0.9806 - val_loss: 0.5066 - val_accuracy: 0.8781\n",
            "Epoch 11/25\n",
            "57/57 [==============================] - 188s 3s/step - loss: 0.0362 - accuracy: 0.9863 - val_loss: 0.5168 - val_accuracy: 0.8744\n",
            "Epoch 12/25\n",
            "57/57 [==============================] - 188s 3s/step - loss: 0.0382 - accuracy: 0.9851 - val_loss: 0.3832 - val_accuracy: 0.9106\n",
            "Epoch 13/25\n",
            "57/57 [==============================] - 190s 3s/step - loss: 0.0332 - accuracy: 0.9886 - val_loss: 0.5157 - val_accuracy: 0.8963\n",
            "Epoch 14/25\n",
            "57/57 [==============================] - 188s 3s/step - loss: 0.0308 - accuracy: 0.9893 - val_loss: 0.4124 - val_accuracy: 0.9025\n",
            "Epoch 15/25\n",
            "57/57 [==============================] - 189s 3s/step - loss: 0.0193 - accuracy: 0.9925 - val_loss: 0.4913 - val_accuracy: 0.9044\n",
            "Epoch 16/25\n",
            "57/57 [==============================] - 188s 3s/step - loss: 0.0204 - accuracy: 0.9929 - val_loss: 0.4836 - val_accuracy: 0.8963\n",
            "Epoch 17/25\n",
            "57/57 [==============================] - 200s 4s/step - loss: 0.0137 - accuracy: 0.9954 - val_loss: 0.4493 - val_accuracy: 0.9137\n",
            "Epoch 18/25\n",
            "57/57 [==============================] - 188s 3s/step - loss: 0.0123 - accuracy: 0.9954 - val_loss: 0.4777 - val_accuracy: 0.9087\n",
            "Epoch 19/25\n",
            "57/57 [==============================] - 189s 3s/step - loss: 0.0127 - accuracy: 0.9957 - val_loss: 0.5486 - val_accuracy: 0.8963\n",
            "Epoch 20/25\n",
            "57/57 [==============================] - 190s 3s/step - loss: 0.0166 - accuracy: 0.9947 - val_loss: 0.5202 - val_accuracy: 0.8981\n",
            "Epoch 21/25\n",
            "57/57 [==============================] - 188s 3s/step - loss: 0.0112 - accuracy: 0.9956 - val_loss: 0.5263 - val_accuracy: 0.9006\n",
            "Epoch 22/25\n",
            "57/57 [==============================] - 190s 3s/step - loss: 0.0146 - accuracy: 0.9963 - val_loss: 0.5985 - val_accuracy: 0.9125\n",
            "Epoch 23/25\n",
            "57/57 [==============================] - 191s 3s/step - loss: 0.0058 - accuracy: 0.9984 - val_loss: 0.4926 - val_accuracy: 0.9150\n",
            "Epoch 24/25\n",
            "57/57 [==============================] - 188s 3s/step - loss: 0.0089 - accuracy: 0.9964 - val_loss: 0.5322 - val_accuracy: 0.8994\n",
            "Epoch 25/25\n",
            "57/57 [==============================] - 189s 3s/step - loss: 0.0131 - accuracy: 0.9959 - val_loss: 0.4851 - val_accuracy: 0.9056\n"
          ]
        },
        {
          "output_type": "execute_result",
          "data": {
            "text/plain": [
              "<keras.callbacks.History at 0x7f6681c12d00>"
            ]
          },
          "metadata": {},
          "execution_count": 14
        }
      ]
    },
    {
      "cell_type": "code",
      "source": [
        "model.save(\"/content/drive/MyDrive/kvasir-dataset-v2/Modello MobileNet5\")"
      ],
      "metadata": {
        "colab": {
          "base_uri": "https://localhost:8080/"
        },
        "id": "BGvfkdCFpJXa",
        "outputId": "f25170e8-f64f-4139-f781-d7c127d73ba2"
      },
      "execution_count": 15,
      "outputs": [
        {
          "output_type": "stream",
          "name": "stderr",
          "text": [
            "WARNING:absl:Found untraced functions such as _jit_compiled_convolution_op, _jit_compiled_convolution_op, _jit_compiled_convolution_op, _jit_compiled_convolution_op, _jit_compiled_convolution_op while saving (showing 5 of 28). These functions will not be directly callable after loading.\n"
          ]
        }
      ]
    },
    {
      "cell_type": "code",
      "source": [
        "pred = model.predict(test_set, steps = len(test_set), verbose = 2)"
      ],
      "metadata": {
        "colab": {
          "base_uri": "https://localhost:8080/"
        },
        "id": "IrFTKVgZTUeJ",
        "outputId": "b8510412-8b25-406d-e03c-c70c62dfd1ac"
      },
      "execution_count": 16,
      "outputs": [
        {
          "output_type": "stream",
          "name": "stdout",
          "text": [
            "800/800 - 584s - 584s/epoch - 730ms/step\n"
          ]
        }
      ]
    },
    {
      "cell_type": "code",
      "source": [
        "predicted_class = np.argmax(pred, axis = 1)\n",
        "true_classes = test_set.classes\n",
        "class_labels= list(test_set.class_indices.keys())\n",
        "\n",
        "from sklearn.metrics import classification_report\n",
        "report = classification_report(true_classes, predicted_class, target_names=class_labels)\n",
        "print(report)"
      ],
      "metadata": {
        "colab": {
          "base_uri": "https://localhost:8080/"
        },
        "id": "PvutL4XJTYPg",
        "outputId": "07c6766e-09cd-49ce-f6ea-eaa5e4394658"
      },
      "execution_count": 17,
      "outputs": [
        {
          "output_type": "stream",
          "name": "stdout",
          "text": [
            "                        precision    recall  f1-score   support\n",
            "\n",
            "    dyed-lifted-polyps       0.92      0.91      0.91       100\n",
            "dyed-resection-margins       0.94      0.91      0.92       100\n",
            "           esophagitis       0.82      0.78      0.80       100\n",
            "          normal-cecum       0.96      0.97      0.97       100\n",
            "        normal-pylorus       0.93      1.00      0.97       100\n",
            "         normal-z-line       0.80      0.81      0.81       100\n",
            "                polyps       0.91      0.96      0.93       100\n",
            "    ulcerative-colitis       0.96      0.90      0.93       100\n",
            "\n",
            "              accuracy                           0.91       800\n",
            "             macro avg       0.90      0.91      0.90       800\n",
            "          weighted avg       0.90      0.91      0.90       800\n",
            "\n"
          ]
        }
      ]
    },
    {
      "cell_type": "code",
      "source": [],
      "metadata": {
        "id": "-l9NKg6ZTbLH"
      },
      "execution_count": null,
      "outputs": []
    }
  ]
}